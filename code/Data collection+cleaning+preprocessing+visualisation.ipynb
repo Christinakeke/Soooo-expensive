{
 "cells": [
  {
   "attachments": {},
   "cell_type": "markdown",
   "metadata": {},
   "source": [
    "# Code\n",
    "## Import pacakages\n"
   ]
  },
  {
   "cell_type": "code",
   "execution_count": null,
   "metadata": {},
   "outputs": [],
   "source": [
    "import requests\n",
    "import pandas as pd\n",
    "import plotly.express as px\n",
    "import matplotlib.pyplot as plt\n",
    "from plotnine import *"
   ]
  },
  {
   "attachments": {},
   "cell_type": "markdown",
   "metadata": {},
   "source": [
    "## Data Collection\n",
    "### Exchange Rate API"
   ]
  },
  {
   "cell_type": "code",
   "execution_count": null,
   "metadata": {},
   "outputs": [],
   "source": [
    "\n",
    "def get_exchange_rates(start_date, end_date, base_currency, target_currency):\n",
    "    url = \"https://api.apilayer.com/exchangerates_data/timeseries\"\n",
    "    headers = {\n",
    "        \"apikey\": \"WE love DS105\"\n",
    "    }\n",
    "    rates = {}\n",
    "    year = pd.Timedelta(days=365)\n",
    "    query_date = pd.to_datetime(end_date)\n",
    "    while query_date >= pd.to_datetime(start_date):\n",
    "        # Set the start and end dates for the current year\n",
    "        current_year_start = (query_date - year).strftime('%Y-%m-%d')\n",
    "        current_year_end = query_date.strftime('%Y-%m-%d')\n",
    "        params = {'access_key': 'WE love DS105',\n",
    "                  'start_date': current_year_start,\n",
    "                  'end_date': current_year_end,\n",
    "                  'base': base_currency,\n",
    "                  'symbols': target_currency}\n",
    "        try:\n",
    "            response = requests.get(url, params=params, headers=headers)\n",
    "            response.raise_for_status()\n",
    "            data = response.json()\n",
    "            rates.update(data['rates'])\n",
    "        except requests.exceptions.RequestException as e:\n",
    "            print(\"Error: \", e)\n",
    "        query_date -= year\n",
    "    # Create a DataFrame from the rates dictionary\n",
    "    df = pd.DataFrame.from_dict(rates, orient='index')\n",
    "    return df\n",
    "\n",
    "df_CNY = get_exchange_rates('2013-12-31','2022-12-31','CNY','USD')\n",
    "df_CAD = get_exchange_rates('2013-12-31','2022-12-31','CAD','USD')\n",
    "df_EUR = get_exchange_rates('2013-12-31','2022-12-31','EUR','USD')\n",
    "df_GBP = get_exchange_rates('2013-12-31','2022-12-31','CNY','USD')\n",
    "df_JPY = get_exchange_rates('2013-12-31','2022-12-31','JPY','USD')\n",
    "df_KRW = get_exchange_rates('2013-12-31','2022-12-31','KRW','USD')\n",
    "df_INR = get_exchange_rates('2013-12-31','2022-12-31','INR','USD')\n",
    "df_RUB = get_exchange_rates('2013-12-31','2022-12-31','RUB','USD')"
   ]
  },
  {
   "attachments": {},
   "cell_type": "markdown",
   "metadata": {},
   "source": [
    "## Data Cleaning + Preprocessing\n",
    "### Exchange Rate - Monthly Average "
   ]
  },
  {
   "cell_type": "code",
   "execution_count": null,
   "metadata": {},
   "outputs": [],
   "source": [
    "# Define a function to calculate the monthly average\n",
    "def monthly_average(df):\n",
    "    df.index = pd.to_datetime(df.index)\n",
    "    monthly_average = df.resample('M').mean()\n",
    "    monthly_average = monthly_average.reset_index(drop=False)\n",
    "    return monthly_average\n",
    "\n",
    "monthly_average_CAD=monthly_average(df_CAD)\n",
    "monthly_average_CNY=monthly_average(df_CNY)\n",
    "monthly_average_EUR=monthly_average(df_EUR)\n",
    "monthly_average_GBP=monthly_average(df_GBP)\n",
    "monthly_average_JPY=monthly_average(df_JPY)\n",
    "monthly_average_INR=monthly_average(df_INR)\n",
    "monthly_average_KRW=monthly_average(df_KRW)\n",
    "monthly_average_RUB=monthly_average(df_RUB)"
   ]
  },
  {
   "attachments": {},
   "cell_type": "markdown",
   "metadata": {},
   "source": [
    "### Inflation Rate"
   ]
  },
  {
   "cell_type": "code",
   "execution_count": null,
   "metadata": {},
   "outputs": [],
   "source": [
    "df= pd.read_csv('DP_LIVE_05032023170628727.csv')\n",
    "# Convert the 'Time' column to datetime format\n",
    "df['TIME'] = pd.to_datetime(df['TIME'])\n",
    "\n",
    "# Select rows with 'CHN', 'FRA', 'CAN', 'JPN', 'KOR', 'GBR', 'USA', 'IND', 'RUS', 'DEU' country codes and a timestamp between 2013 and 2022\n",
    "mask = (df['LOCATION'].isin(['CHN','FRA','CAN','JPN','KOR','GBR','USA','IND','RUS','DEU','ITA'])) & (df['TIME'].dt.year >= 2013) & (df['TIME'].dt.year <= 2022)\n",
    "CPI_data = df.loc[mask]\n",
    "\n",
    "# Drop the columns that aren't needed\n",
    "CPI_data=CPI_data.drop(['INDICATOR','SUBJECT','MEASURE','FREQUENCY','Flag Codes'],axis=1)"
   ]
  },
  {
   "attachments": {},
   "cell_type": "markdown",
   "metadata": {},
   "source": [
    "### Reshaping Data\n",
    "#### Separate data by country for visualization"
   ]
  },
  {
   "cell_type": "code",
   "execution_count": null,
   "metadata": {},
   "outputs": [],
   "source": [
    "df1=CPI_data\n",
    "\n",
    "def country_data(df, country_code, exchange_rate_df):\n",
    "    # Filter the data frame to only include rows with the specified country code\n",
    "    mask = df['LOCATION'] == country_code\n",
    "    country_data = df.loc[mask].reset_index(drop=True)\n",
    "    \n",
    "    exchange_rate_df = exchange_rate_df.reset_index(drop=True)\n",
    "    \n",
    "    country_data = pd.concat([country_data, exchange_rate_df], axis=1)\n",
    "    \n",
    "    return country_data"
   ]
  },
  {
   "cell_type": "code",
   "execution_count": null,
   "metadata": {},
   "outputs": [],
   "source": [
    "# Create a data frame for each country\n",
    "df_CHN=country_data(df1,'CHN',monthly_average_CNY)\n",
    "df_CAN=country_data(df1,'CAN',monthly_average_CAD)\n",
    "df_FRA=country_data(df1,'FRA',monthly_average_EUR)\n",
    "df_ITA=country_data(df1,'ITA',monthly_average_EUR)\n",
    "df_DEU=country_data(df1,'DEU',monthly_average_EUR)\n",
    "df_GBR=country_data(df1,'GBR',monthly_average_GBP)\n",
    "df_IND=country_data(df1,'IND',monthly_average_INR)\n",
    "df_JPN=country_data(df1,'JPN',monthly_average_JPY)\n",
    "df_RUS=country_data(df1,'RUS',monthly_average_RUB)\n",
    "df_KOR=country_data(df1,'KOR',monthly_average_KRW)\n",
    "\n",
    "# US as the reference\n",
    "mask = df1['LOCATION'] == 'USA'\n",
    "df_USA= df1.loc[mask]"
   ]
  },
  {
   "cell_type": "code",
   "execution_count": null,
   "metadata": {},
   "outputs": [],
   "source": [
    "#output the data\n",
    "df_CHN.to_excel('CHN.xlsx',index=False)\n",
    "df_CAN.to_excel('CAN.xlsx',index=False)\n",
    "df_FRA.to_excel('FRA.xlsx',index=False)\n",
    "df_ITA.to_excel('ITA.xlsx',index=False)\n",
    "df_DEU.to_excel('DEU.xlsx',index=False)\n",
    "df_GBR.to_excel('GBR.xlsx',index=False)\n",
    "df_IND.to_excel('IND.xlsx',index=False)\n",
    "df_JPN.to_excel('JPN.xlsx',index=False)\n",
    "df_RUS.to_excel('RUS.xlsx',index=False)\n",
    "df_KOR.to_excel('KOR.xlsx',index=False)\n"
   ]
  },
  {
   "attachments": {},
   "cell_type": "markdown",
   "metadata": {},
   "source": [
    "## Data Visualization\n",
    "### Inflation Map"
   ]
  },
  {
   "cell_type": "code",
   "execution_count": null,
   "metadata": {},
   "outputs": [],
   "source": [
    "mask = (df1['TIME'].dt.year == 2022)\n",
    "df_CPI = df1.loc[mask]\n",
    "df_CPI = df_CPI.groupby('LOCATION').mean()\n",
    "#df_CPI = df_CPI.resample('Y', on='TIME').mean()\n",
    "# change the index to 'Country'\n",
    "df_CPI = df_CPI.reset_index()\n",
    "df_CPI = df_CPI.rename(columns={'LOCATION':'Country', 'Value':'CPI'})\n",
    "# change the country name to full name\n",
    "df_CPI['Country'] = df_CPI['Country'].replace(['CHN', 'GBR', 'USA','CAN','DEU','FRA','IND','ITA','JPN','KOR','RUS'], ['China', 'United Kingdom', 'United States','Canada','Germany','France','India','Italy','Japan','Korea','Russia'])"
   ]
  },
  {
   "cell_type": "code",
   "execution_count": null,
   "metadata": {},
   "outputs": [],
   "source": [
    "# Create a choropleth map with the CPI values\n",
    "fig = px.choropleth(df_CPI, locations='Country', locationmode='country names',\n",
    "                    color='CPI', range_color=(0, 10),\n",
    "                    title='2022 Average Consumer Price Index(CPI) by Country')\n",
    "\n",
    "# Show the map\n",
    "fig.show()"
   ]
  },
  {
   "attachments": {},
   "cell_type": "markdown",
   "metadata": {},
   "source": [
    "### Line Chart\n",
    "#### Overall trend"
   ]
  },
  {
   "cell_type": "code",
   "execution_count": null,
   "metadata": {},
   "outputs": [],
   "source": [
    "# Create a line plot of the exchange rate over time\n",
    "# Purpose of normalization is to manage the variation of scale of 10 countries' exchange rate so that they can be involved in one graph.\n",
    "def normalize_column(df):\n",
    "    min_val = df['USD'].min()\n",
    "    max_val = df['USD'].max()\n",
    "    normalized_values = (df['USD'] - min_val) / (max_val - min_val)\n",
    "    new_df = pd.DataFrame({'LOCATION':df.LOCATION, 'USD' + '_normalized': normalized_values, 'TIME': df.TIME})\n",
    "    return new_df\n",
    "\n",
    "new_df = normalize_column(df_CHN)\n",
    "new_df1 = normalize_column(df_CAN)\n",
    "new_df2 = normalize_column(df_FRA)\n",
    "new_df3 = normalize_column(df_ITA)\n",
    "new_df4 = normalize_column(df_DEU)\n",
    "new_df5 = normalize_column(df_GBR)\n",
    "new_df6 = normalize_column(df_IND)\n",
    "new_df7 = normalize_column(df_JPN)\n",
    "new_df8 = normalize_column(df_RUS)\n",
    "new_df9 = normalize_column(df_KOR)\n",
    "\n",
    "# Merge the data frames\n",
    "df_1=pd.concat([new_df,new_df1,new_df2,new_df3,new_df4,new_df5,new_df6,new_df7,new_df8,new_df9])\n",
    "df_1\n",
    "\n",
    "# Drop rows with NaN values\n",
    "df_1 = df_1.dropna()\n",
    "\n",
    "p1 = ggplot(df_1, aes(x='TIME', y='USD_normalized', color='LOCATION')) + geom_line() + labs(title='Exchange rate', x='Time', y='Exchange rate') + scale_color_discrete(name='Country') + theme_classic() +  scale_x_datetime(date_labels='%Y')\n"
   ]
  },
  {
   "cell_type": "code",
   "execution_count": null,
   "metadata": {},
   "outputs": [],
   "source": [
    "# Create a line plot of the CPI over time\n",
    "p2 = ggplot(df1, aes(x='TIME', y='Value', color='LOCATION')) + geom_line() + labs(title='Inflation', x='Time', y='CPI') + scale_color_discrete(name='Country') + theme_classic() +  scale_x_datetime(date_labels='%Y')"
   ]
  },
  {
   "attachments": {},
   "cell_type": "markdown",
   "metadata": {},
   "source": [
    "#### Country trend"
   ]
  },
  {
   "cell_type": "code",
   "execution_count": null,
   "metadata": {},
   "outputs": [],
   "source": [
    "# Define a function to plot the exchange rate and CPI for a given country\n",
    "def plot_exchange_rate(df, title):\n",
    "    fig,ax=plt.subplots()\n",
    "    ax.plot(df.TIME, df['USD'], color='#4169E1')\n",
    "    ax.set_xlabel('TIME',fontsize=14)\n",
    "    ax.set_ylabel('Exchange rate', color='#4169E1', fontsize=16)\n",
    "    ax2=ax.twinx()\n",
    "    ax2.plot(df.TIME, df.Value, color='#CD5C5C')\n",
    "    ax2.set_ylabel('CPI', color='#CD5C5C', fontsize=16)\n",
    "    plt.title(title, fontsize=20)\n",
    "    plt.show()\n",
    "\n",
    "\n",
    "plot_exchange_rate(df_CHN,'Exchange rate and CPI in China')\n",
    "plot_exchange_rate(df_CAN,'Exchange rate and CPI in Canada')\n",
    "plot_exchange_rate(df_FRA,'Exchange rate and CPI in France')\n",
    "plot_exchange_rate(df_ITA,'Exchange rate and CPI in Italy')\n",
    "plot_exchange_rate(df_DEU,'Exchange rate and CPI in Germany')\n",
    "plot_exchange_rate(df_GBR,'Exchange rate and CPI in UK')\n",
    "plot_exchange_rate(df_IND,'Exchange rate and CPI in India')\n",
    "plot_exchange_rate(df_JPN,'Exchange rate and CPI in Japan')\n",
    "plot_exchange_rate(df_RUS,'Exchange rate and CPI in Russia')\n",
    "plot_exchange_rate(df_KOR,'Exchange rate and CPI in South Korea')"
   ]
  }
 ],
 "metadata": {
  "kernelspec": {
   "display_name": "Python 3 (ipykernel)",
   "language": "python",
   "name": "python3"
  },
  "language_info": {
   "codemirror_mode": {
    "name": "ipython",
    "version": 3
   },
   "file_extension": ".py",
   "mimetype": "text/x-python",
   "name": "python",
   "nbconvert_exporter": "python",
   "pygments_lexer": "ipython3",
   "version": "3.9.13"
  }
 },
 "nbformat": 4,
 "nbformat_minor": 2
}
